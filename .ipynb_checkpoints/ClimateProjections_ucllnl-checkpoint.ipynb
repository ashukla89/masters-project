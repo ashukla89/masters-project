{
 "cells": [
  {
   "cell_type": "code",
   "execution_count": 6,
   "metadata": {},
   "outputs": [],
   "source": [
    "from netCDF4 import Dataset\n",
    "import pandas as pd\n",
    "import numpy as np\n",
    "import matplotlib.pyplot as plt\n",
    "\n",
    "%matplotlib inline"
   ]
  },
  {
   "cell_type": "markdown",
   "metadata": {},
   "source": [
    "# Looking at CSV values for single points (from UNLLCL)"
   ]
  },
  {
   "cell_type": "markdown",
   "metadata": {},
   "source": [
    "## Start with Sonoma, CA"
   ]
  },
  {
   "cell_type": "markdown",
   "metadata": {},
   "source": [
    "The point was identified by using the tool on step 1 of this to find the a point inside the grid cell that contains the town of Sonoma, CA: https://gdo-dcp.ucllnl.org/downscaled_cmip_projections/dcpInterface.html#Projections:%20Subset%20Request.\n",
    "        \n",
    "Then, we requested all the RCP 4.5 and 8.5 model runs for that point from 1970-2099.\n",
    "\n",
    "The data as delivered live here: ftp://gdo-dcp.ucllnl.org/pub/dcp/subset/202003031717cl5d_a_RhT7eY/"
   ]
  },
  {
   "cell_type": "code",
   "execution_count": null,
   "metadata": {},
   "outputs": [],
   "source": [
    "# column headers inexplicably delivered in separate .txt file and aren't comma separated\n",
    "# I turned that into a comma-separated list in quotes via excel,\n",
    "# using this trick: https://javarevisited.blogspot.com/2017/03/how-to-enclose-list-of-values-into-single-quotes-using-microsoft-excel-for-sql-query.html\n",
    "\n",
    "# here's that list\n",
    "# but also, add to that list a few columns we know we need:\n",
    "# year, month, date\n",
    "columns = ['year','month','date',\n",
    "'access1-0.1.rcp45',\n",
    "'access1-0.1.rcp85',\n",
    "'bcc-csm1-1.1.rcp45',\n",
    "'bcc-csm1-1.1.rcp85',\n",
    "'canesm2.1.rcp45',\n",
    "'canesm2.2.rcp45',\n",
    "'canesm2.3.rcp45',\n",
    "'canesm2.4.rcp45',\n",
    "'canesm2.5.rcp45',\n",
    "'canesm2.1.rcp85',\n",
    "'canesm2.2.rcp85',\n",
    "'canesm2.3.rcp85',\n",
    "'canesm2.4.rcp85',\n",
    "'canesm2.5.rcp85',\n",
    "'ccsm4.1.rcp45',\n",
    "'ccsm4.2.rcp45',\n",
    "'ccsm4.1.rcp85',\n",
    "'ccsm4.2.rcp85',\n",
    "'cesm1-bgc.1.rcp45',\n",
    "'cesm1-bgc.1.rcp85',\n",
    "'cnrm-cm5.1.rcp45',\n",
    "'cnrm-cm5.1.rcp85',\n",
    "'csiro-mk3-6-0.1.rcp45',\n",
    "'csiro-mk3-6-0.2.rcp45',\n",
    "'csiro-mk3-6-0.3.rcp45',\n",
    "'csiro-mk3-6-0.4.rcp45',\n",
    "'csiro-mk3-6-0.5.rcp45',\n",
    "'csiro-mk3-6-0.6.rcp45',\n",
    "'csiro-mk3-6-0.7.rcp45',\n",
    "'csiro-mk3-6-0.8.rcp45',\n",
    "'csiro-mk3-6-0.9.rcp45',\n",
    "'csiro-mk3-6-0.10.rcp45',\n",
    "'csiro-mk3-6-0.1.rcp85',\n",
    "'csiro-mk3-6-0.2.rcp85',\n",
    "'csiro-mk3-6-0.3.rcp85',\n",
    "'csiro-mk3-6-0.4.rcp85',\n",
    "'csiro-mk3-6-0.5.rcp85',\n",
    "'csiro-mk3-6-0.6.rcp85',\n",
    "'csiro-mk3-6-0.7.rcp85',\n",
    "'csiro-mk3-6-0.8.rcp85',\n",
    "'csiro-mk3-6-0.9.rcp85',\n",
    "'csiro-mk3-6-0.10.rcp85',\n",
    "'gfdl-cm3.1.rcp85',\n",
    "'gfdl-esm2g.1.rcp45',\n",
    "'gfdl-esm2g.1.rcp85',\n",
    "'gfdl-esm2m.1.rcp45',\n",
    "'gfdl-esm2m.1.rcp85',\n",
    "'inmcm4.1.rcp45',\n",
    "'inmcm4.1.rcp85',\n",
    "'ipsl-cm5a-lr.1.rcp45',\n",
    "'ipsl-cm5a-lr.2.rcp45',\n",
    "'ipsl-cm5a-lr.3.rcp45',\n",
    "'ipsl-cm5a-lr.4.rcp45',\n",
    "'ipsl-cm5a-lr.1.rcp85',\n",
    "'ipsl-cm5a-lr.2.rcp85',\n",
    "'ipsl-cm5a-lr.3.rcp85',\n",
    "'ipsl-cm5a-lr.4.rcp85',\n",
    "'ipsl-cm5a-mr.1.rcp45',\n",
    "'ipsl-cm5a-mr.1.rcp85',\n",
    "'miroc-esm.1.rcp45',\n",
    "'miroc-esm.1.rcp85',\n",
    "'miroc-esm-chem.1.rcp45',\n",
    "'miroc-esm-chem.1.rcp85',\n",
    "'miroc5.1.rcp45',\n",
    "'miroc5.2.rcp45',\n",
    "'miroc5.3.rcp45',\n",
    "'miroc5.1.rcp85',\n",
    "'miroc5.2.rcp85',\n",
    "'miroc5.3.rcp85',\n",
    "'mpi-esm-lr.1.rcp45',\n",
    "'mpi-esm-lr.2.rcp45',\n",
    "'mpi-esm-lr.3.rcp45',\n",
    "'mpi-esm-lr.1.rcp85',\n",
    "'mpi-esm-lr.2.rcp85',\n",
    "'mpi-esm-lr.3.rcp85',\n",
    "'mpi-esm-mr.1.rcp45',\n",
    "'mpi-esm-mr.2.rcp45',\n",
    "'mpi-esm-mr.3.rcp45',\n",
    "'mpi-esm-mr.1.rcp85',\n",
    "'mri-cgcm3.1.rcp45',\n",
    "'mri-cgcm3.1.rcp85',\n",
    "'noresm1-m.1.rcp45',\n",
    "'noresm1-m.1.rcp85']"
   ]
  },
  {
   "cell_type": "markdown",
   "metadata": {},
   "source": [
    "### Let's look at the RCP projections first"
   ]
  },
  {
   "cell_type": "code",
   "execution_count": 64,
   "metadata": {},
   "outputs": [],
   "source": [
    "# let's also identify which ones are rcp4.5 and rcp8.5\n",
    "rcp45 = [element for element in columns if 'rcp45' in element]\n",
    "rcp85 = [element for element in columns if 'rcp85' in element]"
   ]
  },
  {
   "cell_type": "code",
   "execution_count": 153,
   "metadata": {},
   "outputs": [],
   "source": [
    "# test one file: precipitation averages\n",
    "\n",
    "# read in the precip with no headers\n",
    "pr = pd.read_csv('pr_son.csv', header=None)\n",
    "# add columns\n",
    "pr.columns = columns\n",
    "\n",
    "# generate rcp45 avg\n",
    "pr['avg_rcp45'] = pr[rcp45].mean(axis=1)\n",
    "# generate rcp85 avg\n",
    "#pr['avg_rcp85'] = pr.iloc[:,3:].mean(axis=1)\n",
    "pr['avg_rcp85'] = pr[rcp85].mean(axis=1)\n",
    "# get down to just the columns we want\n",
    "pr = pr[['year','month','date','avg_rcp45','avg_rcp85']]"
   ]
  },
  {
   "cell_type": "code",
   "execution_count": 154,
   "metadata": {},
   "outputs": [
    {
     "data": {
      "text/plain": [
       "array([1971, 1972, 1973, 1974, 1975, 1976, 1977, 1978, 1979, 1980, 1981,\n",
       "       1982, 1983, 1984, 1985, 1986, 1987, 1988, 1989, 1990, 1991, 1992,\n",
       "       1993, 1994, 1995, 1996, 1997, 1998, 1999, 2000, 2001, 2002, 2003,\n",
       "       2004, 2005, 2006, 2007, 2008, 2009, 2010, 2011, 2012, 2013, 2014,\n",
       "       2015, 2016, 2017, 2018, 2019, 2020, 2021, 2022, 2023, 2024, 2025,\n",
       "       2026, 2027, 2028, 2029, 2030, 2031, 2032, 2033, 2034, 2035, 2036,\n",
       "       2037, 2038, 2039, 2040, 2041, 2042, 2043, 2044, 2045, 2046, 2047,\n",
       "       2048, 2049, 2050, 2051, 2052, 2053, 2054, 2055, 2056, 2057, 2058,\n",
       "       2059, 2060, 2061, 2062, 2063, 2064, 2065, 2066, 2067, 2068, 2069,\n",
       "       2070, 2071, 2072, 2073, 2074, 2075, 2076, 2077, 2078, 2079, 2080,\n",
       "       2081, 2082, 2083, 2084, 2085, 2086, 2087, 2088, 2089, 2090, 2091,\n",
       "       2092, 2093, 2094, 2095, 2096, 2097, 2098, 2099])"
      ]
     },
     "execution_count": 154,
     "metadata": {},
     "output_type": "execute_result"
    }
   ],
   "source": [
    "# how many years in the dataset?\n",
    "pr.year.unique()"
   ]
  },
  {
   "cell_type": "markdown",
   "metadata": {},
   "source": [
    "Hang on a minute... does this approach make any goddamn sense?\n",
    "\n",
    "Let's test for a couple things:\n",
    "* What do the numbers average out to for all the scenarios?\n",
    "* How does this average compare to the historical record for the actuals that we have (1971-1999)?"
   ]
  },
  {
   "cell_type": "code",
   "execution_count": 156,
   "metadata": {},
   "outputs": [],
   "source": [
    "# first, know that you have to change from mm into in\n",
    "mm_to_in = 0.0393701\n",
    "\n",
    "# also, that Centrigrade needs to be rendered as Fahrenheit\n",
    "# we'll write a function to do this conversion\n",
    "def c_to_f(t):\n",
    "    t = t*9/5 + 32\n",
    "    return t"
   ]
  },
  {
   "cell_type": "markdown",
   "metadata": {},
   "source": [
    "Now let's do some analysis just on precipitation to see if this makes any sense:"
   ]
  },
  {
   "cell_type": "code",
   "execution_count": 76,
   "metadata": {},
   "outputs": [
    {
     "name": "stdout",
     "output_type": "stream",
     "text": [
      "Average precip of all years-- RCP4.5:\n",
      "month\n",
      "1     8.058832\n",
      "2     6.263734\n",
      "3     4.129515\n",
      "4     1.841494\n",
      "5     0.653492\n",
      "6     0.113609\n",
      "7     0.014104\n",
      "8     0.037735\n",
      "9     0.369903\n",
      "10    1.186939\n",
      "11    4.022925\n",
      "12    5.719453\n",
      "Name: avg_rcp45, dtype: float64\n",
      "32.411736030244576\n",
      "Average precip of all years-- RCP8.5:\n",
      "month\n",
      "1     8.548344\n",
      "2     6.645574\n",
      "3     4.154403\n",
      "4     1.822022\n",
      "5     0.608013\n",
      "6     0.106383\n",
      "7     0.012596\n",
      "8     0.040895\n",
      "9     0.367394\n",
      "10    1.153400\n",
      "11    3.883007\n",
      "12    5.903348\n",
      "Name: avg_rcp85, dtype: float64\n",
      "33.24537831079283\n",
      "Average precip of historical years:\n",
      "31.730586158206894\n",
      "31.66296707084121\n",
      "Average precip of future years:\n",
      "32.741167701496444\n",
      "33.856490878266236\n"
     ]
    }
   ],
   "source": [
    "# aggregate by monthly averages (first sum into months, then average the month across years)\n",
    "\n",
    "print('Average precip of all years-- RCP4.5:')\n",
    "print(pr.groupby(['year','month']).avg_rcp45.sum().reset_index().groupby('month').avg_rcp45.mean() * mm_to_in)\n",
    "print(pr.groupby(['year','month']).avg_rcp45.sum().reset_index().groupby('month').avg_rcp45.mean().sum() * mm_to_in)\n",
    "\n",
    "print('Average precip of all years-- RCP8.5:')\n",
    "print(pr.groupby(['year','month']).avg_rcp85.sum().reset_index().groupby('month').avg_rcp85.mean() * mm_to_in)\n",
    "print(pr.groupby(['year','month']).avg_rcp85.sum().reset_index().groupby('month').avg_rcp85.mean().sum() * mm_to_in)\n",
    "\n",
    "# the below results seem a bit high. the avg annual precip through 2010 is 29.42 inches per Wikipedia: https://en.wikipedia.org/wiki/Sonoma,_California\n",
    "\n",
    "# let's try just the historical period\n",
    "print('Average precip of historical years:')\n",
    "print(pr[pr['year']<=1999].groupby(['year','month']).avg_rcp45.sum().reset_index().groupby('month').avg_rcp45.mean().sum() * mm_to_in)\n",
    "print(pr[pr['year']<=1999].groupby(['year','month']).avg_rcp85.sum().reset_index().groupby('month').avg_rcp85.mean().sum() * mm_to_in)\n",
    "\n",
    "# and now future period\n",
    "print('Average precip of future years:')\n",
    "print(pr[pr['year']>2010].groupby(['year','month']).avg_rcp45.sum().reset_index().groupby('month').avg_rcp45.mean().sum() * mm_to_in)\n",
    "print(pr[pr['year']>2010].groupby(['year','month']).avg_rcp85.sum().reset_index().groupby('month').avg_rcp85.mean().sum() * mm_to_in)\n"
   ]
  },
  {
   "cell_type": "markdown",
   "metadata": {},
   "source": [
    "The above mostly makes sense, although precipitation seems a bit high. Perhaps the data reflects a hillside location with higher precip.\n",
    "\n",
    "Let's go ahead and write a function that will do all the above work for other prediction datasets we might encounter in this format (taking into account the fact that some will be precipitation, and others temperature predictions)."
   ]
  },
  {
   "cell_type": "code",
   "execution_count": 160,
   "metadata": {},
   "outputs": [],
   "source": [
    "# the function takes the df to feed in, and a string that is the name of the measure we care about\n",
    "def transform_proj(df,measure_name):\n",
    "    # change column names\n",
    "    df.columns = columns\n",
    "    # generate an RCP4.5 average\n",
    "    df[measure_name+'_rcp45'] = df[rcp45].mean(axis=1)\n",
    "    # generate an RCP8.5 average\n",
    "    df[measure_name+'_rcp85'] = df[rcp45].mean(axis=1)\n",
    "    # filter to just that average\n",
    "    df = df[['year','month','date',measure_name+'_rcp45',measure_name+'_rcp85']]\n",
    "    \n",
    "    # transform the measures\n",
    "    # from mm to inches if it's precip\n",
    "    if measure_name == 'pr':\n",
    "        df[measure_name+'_rcp45'] = df[measure_name+'_rcp45'] * mm_to_in\n",
    "        df[measure_name+'_rcp85'] = df[measure_name+'_rcp85'] * mm_to_in\n",
    "    # from C to F if it's temp\n",
    "    if 'tas' in measure_name:\n",
    "        df[measure_name+'_rcp45'] = c_to_f(df[measure_name+'_rcp45'])\n",
    "        df[measure_name+'_rcp85'] = c_to_f(df[measure_name+'_rcp85'])\n",
    "        \n",
    "    return df"
   ]
  },
  {
   "cell_type": "code",
   "execution_count": 164,
   "metadata": {},
   "outputs": [
    {
     "name": "stderr",
     "output_type": "stream",
     "text": [
      "/Users/aseemshukla/.pyenv/versions/3.7.1/lib/python3.7/site-packages/ipykernel_launcher.py:19: SettingWithCopyWarning: \n",
      "A value is trying to be set on a copy of a slice from a DataFrame.\n",
      "Try using .loc[row_indexer,col_indexer] = value instead\n",
      "\n",
      "See the caveats in the documentation: http://pandas.pydata.org/pandas-docs/stable/indexing.html#indexing-view-versus-copy\n",
      "/Users/aseemshukla/.pyenv/versions/3.7.1/lib/python3.7/site-packages/ipykernel_launcher.py:20: SettingWithCopyWarning: \n",
      "A value is trying to be set on a copy of a slice from a DataFrame.\n",
      "Try using .loc[row_indexer,col_indexer] = value instead\n",
      "\n",
      "See the caveats in the documentation: http://pandas.pydata.org/pandas-docs/stable/indexing.html#indexing-view-versus-copy\n",
      "/Users/aseemshukla/.pyenv/versions/3.7.1/lib/python3.7/site-packages/ipykernel_launcher.py:15: SettingWithCopyWarning: \n",
      "A value is trying to be set on a copy of a slice from a DataFrame.\n",
      "Try using .loc[row_indexer,col_indexer] = value instead\n",
      "\n",
      "See the caveats in the documentation: http://pandas.pydata.org/pandas-docs/stable/indexing.html#indexing-view-versus-copy\n",
      "  from ipykernel import kernelapp as app\n",
      "/Users/aseemshukla/.pyenv/versions/3.7.1/lib/python3.7/site-packages/ipykernel_launcher.py:16: SettingWithCopyWarning: \n",
      "A value is trying to be set on a copy of a slice from a DataFrame.\n",
      "Try using .loc[row_indexer,col_indexer] = value instead\n",
      "\n",
      "See the caveats in the documentation: http://pandas.pydata.org/pandas-docs/stable/indexing.html#indexing-view-versus-copy\n",
      "  app.launch_new_instance()\n"
     ]
    }
   ],
   "source": [
    "# let's do the same for tmax and tmin\n",
    "\n",
    "# read in the max temperature with no headers\n",
    "tasmax = pd.read_csv('tasmax_son.csv', header=None)\n",
    "tasmax = transform_proj(tasmax,\"tasmax\")\n",
    "\n",
    "# read in the min temp with no headers\n",
    "tasmin = pd.read_csv('tasmin_son.csv', header=None)\n",
    "tasmin = transform_proj(tasmin,\"tasmin\")\n",
    "\n",
    "# also, re-read pr for consistency\n",
    "pr = pd.read_csv('pr_son.csv', header=None)\n",
    "pr = transform_proj(pr,\"pr\")"
   ]
  },
  {
   "cell_type": "code",
   "execution_count": 162,
   "metadata": {},
   "outputs": [
    {
     "name": "stdout",
     "output_type": "stream",
     "text": [
      "Before 1999 max month\n",
      "1     55.469248\n",
      "2     61.456849\n",
      "3     64.682938\n",
      "4     69.905032\n",
      "5     75.277214\n",
      "6     82.052001\n",
      "7     86.796484\n",
      "8     86.606230\n",
      "9     84.863416\n",
      "10    77.283918\n",
      "11    64.190077\n",
      "12    55.761123\n",
      "Name: tasmax_rcp45, dtype: float64\n",
      "Before 1999 min month\n",
      "1     35.228213\n",
      "2     37.559180\n",
      "3     38.431714\n",
      "4     40.335810\n",
      "5     43.775015\n",
      "6     47.587870\n",
      "7     49.036117\n",
      "8     48.862166\n",
      "9     47.556703\n",
      "10    43.745521\n",
      "11    38.969305\n",
      "12    35.349223\n",
      "Name: tasmin_rcp45, dtype: float64\n",
      "After 2010 max month\n",
      "1     57.614043\n",
      "2     63.659702\n",
      "3     67.017675\n",
      "4     72.257178\n",
      "5     78.394382\n",
      "6     85.620198\n",
      "7     90.171581\n",
      "8     90.393240\n",
      "9     88.278990\n",
      "10    80.119806\n",
      "11    66.549711\n",
      "12    57.792517\n",
      "Name: tasmax_rcp45, dtype: float64\n",
      "After 2010 min month\n",
      "1     38.336471\n",
      "2     40.393897\n",
      "3     41.189398\n",
      "4     43.141839\n",
      "5     46.736401\n",
      "6     50.515700\n",
      "7     52.474802\n",
      "8     52.513365\n",
      "9     51.035738\n",
      "10    46.812735\n",
      "11    41.638035\n",
      "12    38.166957\n",
      "Name: tasmin_rcp45, dtype: float64\n"
     ]
    }
   ],
   "source": [
    "print(\"Before 1999 max\",tasmax[tasmax['year']<=1999].groupby('month').tasmax_rcp45.mean())\n",
    "print(\"Before 1999 min\",tasmin[tasmin['year']<=1999].groupby('month').tasmin_rcp45.mean())\n",
    "print(\"After 2010 max\",tasmax[tasmax['year']>2010].groupby('month').tasmax_rcp45.mean())\n",
    "print(\"After 2010 min\",tasmin[tasmin['year']>2010].groupby('month').tasmin_rcp45.mean())"
   ]
  },
  {
   "cell_type": "markdown",
   "metadata": {},
   "source": [
    "### Let's ensure this also makes sense when comparing to historical data"
   ]
  },
  {
   "cell_type": "code",
   "execution_count": 135,
   "metadata": {},
   "outputs": [],
   "source": [
    "# read in each file, but just for historicals\n",
    "\n",
    "prh = pd.read_csv('pr_son_h.csv', header=None)\n",
    "tasmaxh = pd.read_csv('tasmax_son_h.csv', header=None)\n",
    "tasminh = pd.read_csv('tasmin_son_h.csv', header=None)"
   ]
  },
  {
   "cell_type": "code",
   "execution_count": 136,
   "metadata": {},
   "outputs": [],
   "source": [
    "# write a function that transforms each of these types of dfs\n",
    "# measure_name should only be 'pr' or 'tasmax' or 'tasmin' !!\n",
    "def transform_hist(df,measure_name):\n",
    "    # add column names (no climate projections here)\n",
    "    # list the columns\n",
    "    cols_h = ['year','month','date',measure_name]\n",
    "    # add the names\n",
    "    df.columns = cols_h\n",
    "\n",
    "    # transform the measures\n",
    "    # from mm to inches if it's precip\n",
    "    if measure_name == 'pr':\n",
    "        df[measure_name] = df[measure_name] * mm_to_in\n",
    "    # from C to F if it's temp\n",
    "    if 'tas' in measure_name:\n",
    "        df[measure_name] = c_to_f(df[measure_name])\n",
    "    \n",
    "    # return the df\n",
    "    return df"
   ]
  },
  {
   "cell_type": "code",
   "execution_count": 137,
   "metadata": {},
   "outputs": [],
   "source": [
    "prh = transform_hist(prh,'pr')\n",
    "tasmaxh = transform_hist(tasmaxh,'tasmax')\n",
    "tasminh = transform_hist(tasminh,'tasmin')"
   ]
  },
  {
   "cell_type": "code",
   "execution_count": 113,
   "metadata": {},
   "outputs": [
    {
     "data": {
      "text/plain": [
       "array([1971, 1972, 1973, 1974, 1975, 1976, 1977, 1978, 1979, 1980, 1981,\n",
       "       1982, 1983, 1984, 1985, 1986, 1987, 1988, 1989, 1990, 1991, 1992,\n",
       "       1993, 1994, 1995, 1996, 1997, 1998, 1999])"
      ]
     },
     "execution_count": 113,
     "metadata": {},
     "output_type": "execute_result"
    }
   ],
   "source": [
    "# how many years here? looks like only 1971-1999\n",
    "prh.year.unique()"
   ]
  },
  {
   "cell_type": "code",
   "execution_count": null,
   "metadata": {},
   "outputs": [],
   "source": [
    "# now let's compare the historicals to what we saw above\n",
    "# note that previous analysis (now effaced) shows that the projections for the historical period (1971-1999)\n",
    "# are exactly the same in rcp45 and rcp85\n",
    "\n",
    "# let's write a function so we can do it again later\n",
    "\n",
    "#def compare_scenarios(pr,tasmin,tax)\n",
    "comp = pd.concat([tasmaxh.groupby('month').tasmax.mean(),tasminh.groupby('month').tasmin.mean(),\\\n",
    "        prh.groupby('month').pr.mean(),\\\n",
    "        tasmax[tasmax['year']<=1999].groupby('month').tasmax_rcp45.mean(),\\\n",
    "          tasmin[tasmin['year']<=1999].groupby('month').tasmin_rcp45.mean(),\\\n",
    "            pr[pr['year']<=1999].groupby('month').pr_rcp45.mean()\n",
    "                 ],axis=1)\n",
    "comp\n",
    "comp.columns = ['hist_max','hist_min','hist_pr','rcp45_max','rcp45_min','rcp45_pr']\n",
    "comp[['hist_pr','rcp45_pr','hist_max','rcp45_max','hist_min','rcp45_min']]"
   ]
  },
  {
   "cell_type": "markdown",
   "metadata": {},
   "source": [
    "They're pretty close-- but the predictions have a systematically lower bias (by over a degree in summer nights) compared to the historicals. We won't use the predictions: we'll use the real historicals, at the risk of somewhat underrating the bad scenarios. But of course, we want to be conservative."
   ]
  },
  {
   "cell_type": "markdown",
   "metadata": {},
   "source": [
    "## Next, do the same in Calistoga, CA"
   ]
  },
  {
   "cell_type": "markdown",
   "metadata": {},
   "source": [
    "Same process as above, but the data is here: ftp://gdo-dcp.ucllnl.org/pub/dcp/subset/202003031718cl5d_a_H578K8\n",
    "\n",
    "We've downloaded it manually and given it names for this part."
   ]
  },
  {
   "cell_type": "markdown",
   "metadata": {},
   "source": [
    "### Read in historicals"
   ]
  },
  {
   "cell_type": "code",
   "execution_count": 144,
   "metadata": {},
   "outputs": [],
   "source": [
    "# read them in\n",
    "pr_ch = pd.read_csv('pr_calist_h.csv', header=None)\n",
    "tasmax_ch = pd.read_csv('tasmax_calist_h.csv', header=None)\n",
    "tasmin_ch = pd.read_csv('tasmin_calist_h.csv', header=None)\n",
    "\n",
    "# transform them\n",
    "pr_ch = transform_hist(pr_ch,'pr')\n",
    "tasmax_ch = transform_hist(tasmax_ch,'tasmax')\n",
    "tasmin_ch = transform_hist(tasmin_ch,'tasmin')"
   ]
  },
  {
   "cell_type": "markdown",
   "metadata": {},
   "source": [
    "### Then read in projections"
   ]
  },
  {
   "cell_type": "code",
   "execution_count": null,
   "metadata": {},
   "outputs": [],
   "source": []
  },
  {
   "cell_type": "markdown",
   "metadata": {},
   "source": [
    "### Combine for comparison to sanity check"
   ]
  },
  {
   "cell_type": "code",
   "execution_count": null,
   "metadata": {},
   "outputs": [],
   "source": []
  },
  {
   "cell_type": "markdown",
   "metadata": {},
   "source": [
    "## (Do the other two cities)"
   ]
  },
  {
   "cell_type": "markdown",
   "metadata": {},
   "source": [
    "## Compare to the MACA results"
   ]
  },
  {
   "cell_type": "code",
   "execution_count": null,
   "metadata": {},
   "outputs": [],
   "source": []
  }
 ],
 "metadata": {
  "kernelspec": {
   "display_name": "Python 3",
   "language": "python",
   "name": "python3"
  },
  "language_info": {
   "codemirror_mode": {
    "name": "ipython",
    "version": 3
   },
   "file_extension": ".py",
   "mimetype": "text/x-python",
   "name": "python",
   "nbconvert_exporter": "python",
   "pygments_lexer": "ipython3",
   "version": "3.7.1"
  }
 },
 "nbformat": 4,
 "nbformat_minor": 2
}
